{
 "cells": [
  {
   "cell_type": "code",
   "execution_count": 1,
   "id": "3ad0b10d",
   "metadata": {},
   "outputs": [],
   "source": [
    "# project: p4\n",
    "# submitter: adao3\n",
    "# partner: none\n",
    "# hours: 1"
   ]
  },
  {
   "cell_type": "code",
   "execution_count": 2,
   "id": "5096277b",
   "metadata": {},
   "outputs": [],
   "source": [
    "import project\n",
    "from project import *\n",
    "import math"
   ]
  },
  {
   "cell_type": "code",
   "execution_count": 3,
   "id": "002c0845",
   "metadata": {},
   "outputs": [],
   "source": [
    "def damage(attacker, defender):\n",
    "    physical_damage = 10 * project.get_attack(attacker) / project.get_defense(defender)\n",
    "    special_damage = 10 * project.get_sp_atk(attacker) / project.get_sp_def(defender)\n",
    "    if (physical_damage > special_damage):\n",
    "        return physical_damage\n",
    "    else:\n",
    "        return special_damage"
   ]
  },
  {
   "cell_type": "code",
   "execution_count": 4,
   "id": "aaa4777c",
   "metadata": {},
   "outputs": [
    {
     "data": {
      "text/plain": [
       "5.769230769230769"
      ]
     },
     "execution_count": 4,
     "metadata": {},
     "output_type": "execute_result"
    }
   ],
   "source": [
    "#Q1\n",
    "damage(\"Scraggy\", \"Golem\")"
   ]
  },
  {
   "cell_type": "code",
   "execution_count": 5,
   "id": "82a4f193",
   "metadata": {},
   "outputs": [
    {
     "data": {
      "text/plain": [
       "17.272727272727273"
      ]
     },
     "execution_count": 5,
     "metadata": {},
     "output_type": "execute_result"
    }
   ],
   "source": [
    "#Q2\n",
    "damage(\"Magnemite\",\"Nidorina\")"
   ]
  },
  {
   "cell_type": "code",
   "execution_count": 6,
   "id": "001adc53",
   "metadata": {},
   "outputs": [],
   "source": [
    "def type_bonus(attack_type, defender):\n",
    "    defender_type1 = get_type1(defender)\n",
    "    defender_type2 = get_type2(defender)\n",
    "    bonus = project.get_type_effectiveness(attack_type, defender_type1)\n",
    "    if (defender_type2 != \"None\"):\n",
    "        bonus = bonus * get_type_effectiveness(attack_type, defender_type2)\n",
    "        return bonus\n",
    "    return bonus\n"
   ]
  },
  {
   "cell_type": "code",
   "execution_count": 7,
   "id": "0839084c",
   "metadata": {},
   "outputs": [
    {
     "data": {
      "text/plain": [
       "2.0"
      ]
     },
     "execution_count": 7,
     "metadata": {},
     "output_type": "execute_result"
    }
   ],
   "source": [
    "#Q3\n",
    "type_bonus(\"Electric\",\"Magikarp\")"
   ]
  },
  {
   "cell_type": "code",
   "execution_count": 8,
   "id": "6128eb50",
   "metadata": {},
   "outputs": [
    {
     "data": {
      "text/plain": [
       "0.25"
      ]
     },
     "execution_count": 8,
     "metadata": {},
     "output_type": "execute_result"
    }
   ],
   "source": [
    "#Q4\n",
    "type_bonus(\"Bug\",\"Gastly\")"
   ]
  },
  {
   "cell_type": "code",
   "execution_count": 9,
   "id": "cd43082d",
   "metadata": {},
   "outputs": [],
   "source": [
    "def effective_damage(attacker, defender):\n",
    "    attacker_type1 = get_type1(attacker)\n",
    "    attacker_type2 = get_type2(attacker)\n",
    "    if (attacker_type2 != \"None\"):\n",
    "        type1_bonus = type_bonus(attacker_type1, defender)\n",
    "        type2_bonus = type_bonus(attacker_type2, defender)\n",
    "        if (type1_bonus > type2_bonus):\n",
    "            bonus = type1_bonus\n",
    "            calc_damage = bonus * damage(attacker, defender)\n",
    "            return calc_damage\n",
    "        else:\n",
    "            bonus = type2_bonus\n",
    "            calc_damage = bonus * damage(attacker, defender)\n",
    "            return calc_damage \n",
    "    else:\n",
    "        bonus = type_bonus(attacker_type1, defender)\n",
    "        calc_damage = bonus * damage(attacker, defender)\n",
    "        return calc_damage"
   ]
  },
  {
   "cell_type": "code",
   "execution_count": 10,
   "id": "96ee365a",
   "metadata": {},
   "outputs": [
    {
     "data": {
      "text/plain": [
       "41.06666666666667"
      ]
     },
     "execution_count": 10,
     "metadata": {},
     "output_type": "execute_result"
    }
   ],
   "source": [
    "#Q5\n",
    "effective_damage(\"Mewtwo\",\"Gengar\")"
   ]
  },
  {
   "cell_type": "code",
   "execution_count": 11,
   "id": "22295ae1",
   "metadata": {},
   "outputs": [
    {
     "data": {
      "text/plain": [
       "22.5"
      ]
     },
     "execution_count": 11,
     "metadata": {},
     "output_type": "execute_result"
    }
   ],
   "source": [
    "#Q6\n",
    "effective_damage(\"Wooper\",\"Pikachu\")"
   ]
  },
  {
   "cell_type": "code",
   "execution_count": 12,
   "id": "befc9e47",
   "metadata": {},
   "outputs": [
    {
     "data": {
      "text/plain": [
       "12.307692307692308"
      ]
     },
     "execution_count": 12,
     "metadata": {},
     "output_type": "execute_result"
    }
   ],
   "source": [
    "#Q7\n",
    "effective_damage(\"Slowpoke\",\"Steelix\")"
   ]
  },
  {
   "cell_type": "code",
   "execution_count": 13,
   "id": "237bda24",
   "metadata": {},
   "outputs": [],
   "source": [
    "def num_hits(attacker, defender):\n",
    "    return math.ceil(project.get_hp(defender)/effective_damage(attacker,defender))"
   ]
  },
  {
   "cell_type": "code",
   "execution_count": 14,
   "id": "5ad0592a",
   "metadata": {},
   "outputs": [
    {
     "data": {
      "text/plain": [
       "8"
      ]
     },
     "execution_count": 14,
     "metadata": {},
     "output_type": "execute_result"
    }
   ],
   "source": [
    "#Q8\n",
    "num_hits(\"Metapod\",\"Slowpoke\")"
   ]
  },
  {
   "cell_type": "code",
   "execution_count": 15,
   "id": "b4610e5c",
   "metadata": {},
   "outputs": [
    {
     "data": {
      "text/plain": [
       "9"
      ]
     },
     "execution_count": 15,
     "metadata": {},
     "output_type": "execute_result"
    }
   ],
   "source": [
    "#Q9\n",
    "num_hits(\"Pikachu\",\"Snivy\")"
   ]
  },
  {
   "cell_type": "code",
   "execution_count": 16,
   "id": "fe0c2e3e",
   "metadata": {},
   "outputs": [],
   "source": [
    "def battle(pkmn1, pkmn2):\n",
    "    dmg_taken1 = num_hits(pkmn2,pkmn1)\n",
    "    dmg_taken2 = num_hits(pkmn1,pkmn2)\n",
    "    if (dmg_taken1 > dmg_taken2):\n",
    "        if (dmg_taken1 > 10):\n",
    "            return (pkmn2 + \" ran away\")\n",
    "        return pkmn1\n",
    "    elif (dmg_taken2 > dmg_taken1):\n",
    "        if (dmg_taken2 > 10):\n",
    "            return (pkmn1 + \" ran away\")\n",
    "        return pkmn2\n",
    "    elif (dmg_taken1 == dmg_taken2):\n",
    "        if (get_speed(pkmn1) > get_speed(pkmn2)):\n",
    "            return pkmn1\n",
    "        elif (get_speed(pkmn1) < get_speed(pkmn2)):\n",
    "            return pkmn2\n",
    "        else:\n",
    "            return (\"Draw\")"
   ]
  },
  {
   "cell_type": "code",
   "execution_count": 17,
   "id": "74a73ac5",
   "metadata": {},
   "outputs": [
    {
     "data": {
      "text/plain": [
       "'Sceptile'"
      ]
     },
     "execution_count": 17,
     "metadata": {},
     "output_type": "execute_result"
    }
   ],
   "source": [
    "#Q10\n",
    "battle(\"Krabby\",\"Sceptile\")"
   ]
  },
  {
   "cell_type": "code",
   "execution_count": 18,
   "id": "8b24fdcc",
   "metadata": {},
   "outputs": [
    {
     "data": {
      "text/plain": [
       "'Heracross'"
      ]
     },
     "execution_count": 18,
     "metadata": {},
     "output_type": "execute_result"
    }
   ],
   "source": [
    "#Q11\n",
    "battle('Heracross', 'Blastoise')"
   ]
  },
  {
   "cell_type": "code",
   "execution_count": 19,
   "id": "98fa90bf",
   "metadata": {},
   "outputs": [
    {
     "data": {
      "text/plain": [
       "'Starly'"
      ]
     },
     "execution_count": 19,
     "metadata": {},
     "output_type": "execute_result"
    }
   ],
   "source": [
    "#Q12\n",
    "battle('Starly', 'Pidgey')"
   ]
  },
  {
   "cell_type": "code",
   "execution_count": 20,
   "id": "f01023c5",
   "metadata": {},
   "outputs": [
    {
     "data": {
      "text/plain": [
       "'Spearow'"
      ]
     },
     "execution_count": 20,
     "metadata": {},
     "output_type": "execute_result"
    }
   ],
   "source": [
    "#Q13\n",
    "battle('Bulbasaur', 'Spearow')"
   ]
  },
  {
   "cell_type": "code",
   "execution_count": 21,
   "id": "315a2936",
   "metadata": {},
   "outputs": [
    {
     "data": {
      "text/plain": [
       "'Bellsprout ran away'"
      ]
     },
     "execution_count": 21,
     "metadata": {},
     "output_type": "execute_result"
    }
   ],
   "source": [
    "#Q14\n",
    "battle('Heatran', 'Bellsprout')"
   ]
  },
  {
   "cell_type": "code",
   "execution_count": 22,
   "id": "17c446d0",
   "metadata": {},
   "outputs": [
    {
     "data": {
      "text/plain": [
       "'Meditite ran away'"
      ]
     },
     "execution_count": 22,
     "metadata": {},
     "output_type": "execute_result"
    }
   ],
   "source": [
    "#Q15\n",
    "battle('Meditite', 'Gyarados')"
   ]
  },
  {
   "cell_type": "code",
   "execution_count": 23,
   "id": "be9cdb76",
   "metadata": {},
   "outputs": [
    {
     "data": {
      "text/plain": [
       "'Draw'"
      ]
     },
     "execution_count": 23,
     "metadata": {},
     "output_type": "execute_result"
    }
   ],
   "source": [
    "#Q16\n",
    "battle('Mudkip', 'Gulpin')"
   ]
  },
  {
   "cell_type": "code",
   "execution_count": 24,
   "id": "5b8f0fcb",
   "metadata": {},
   "outputs": [],
   "source": [
    "def battle_2(pkmn1, pkmn2):\n",
    "    dmg_taken1 = num_hits(pkmn2,pkmn1)\n",
    "    dmg_taken2 = num_hits(pkmn1,pkmn2)\n",
    "    if (dmg_taken1 > dmg_taken2):\n",
    "        return pkmn1\n",
    "    elif (dmg_taken2 > dmg_taken1):\n",
    "        return pkmn2\n",
    "    else:\n",
    "        return (\"Draw\")"
   ]
  },
  {
   "cell_type": "code",
   "execution_count": 25,
   "id": "d3ffacc8",
   "metadata": {},
   "outputs": [],
   "source": [
    "def two_on_two_battle(pkmn1, pkmn2, pkmn3, pkmn4):\n",
    "    pkmn1_win1 = battle_2(pkmn1,pkmn3)\n",
    "    pkmn2_win1 = battle_2(pkmn2,pkmn4)\n",
    "    if (pkmn1_win1 == pkmn1 and pkmn2_win1 == pkmn2):\n",
    "        return \"Team A wins\"\n",
    "    elif (pkmn1_win1 == pkmn3 and pkmn2_win1 == pkmn4):\n",
    "        return \"Team B wins\"\n",
    "    elif ((pkmn1_win1 == pkmn1 and pkmn2_win1 == pkmn4) or (pkmn1_win1 == pkmn3 and pkmn2_win1 == pkmn2)):\n",
    "        pkmn_win2 = battle(pkmn1_win1,pkmn2_win1)\n",
    "        if (pkmn_win2 == pkmn1 or pkmn_win2 == pkmn2):\n",
    "            return \"Team A wins\"\n",
    "        elif (pkmn_win2 == pkmn3 or pkmn_win2 == pkmn4):\n",
    "            return \"Team B wins\"\n",
    "        else:\n",
    "            return \"No result\"\n",
    "    else: \n",
    "        return \"No result\"\n"
   ]
  },
  {
   "cell_type": "code",
   "execution_count": 26,
   "id": "94a4d73c",
   "metadata": {},
   "outputs": [
    {
     "data": {
      "text/plain": [
       "'Team B wins'"
      ]
     },
     "execution_count": 26,
     "metadata": {},
     "output_type": "execute_result"
    }
   ],
   "source": [
    "#Q17\n",
    "two_on_two_battle('Squirtle', 'Mudkip', 'Infernape', 'Charizard')"
   ]
  },
  {
   "cell_type": "code",
   "execution_count": 27,
   "id": "91343d5f",
   "metadata": {},
   "outputs": [
    {
     "data": {
      "text/plain": [
       "'Team A wins'"
      ]
     },
     "execution_count": 27,
     "metadata": {},
     "output_type": "execute_result"
    }
   ],
   "source": [
    "#Q18\n",
    "two_on_two_battle(\"Umbreon\", \"Flareon\", \"Jolteon\", \"Glaceon\")"
   ]
  },
  {
   "cell_type": "code",
   "execution_count": 28,
   "id": "50ae842a",
   "metadata": {},
   "outputs": [
    {
     "data": {
      "text/plain": [
       "'Team A wins'"
      ]
     },
     "execution_count": 28,
     "metadata": {},
     "output_type": "execute_result"
    }
   ],
   "source": [
    "#Q19\n",
    "two_on_two_battle(\"Electivire\", \"Arcanine\", \"Greninja\", \"Charizard\")"
   ]
  },
  {
   "cell_type": "code",
   "execution_count": 29,
   "id": "e3f49080",
   "metadata": {},
   "outputs": [
    {
     "data": {
      "text/plain": [
       "'Team B wins'"
      ]
     },
     "execution_count": 29,
     "metadata": {},
     "output_type": "execute_result"
    }
   ],
   "source": [
    "#Q20\n",
    "two_on_two_battle('Flygon', 'Sceptile', 'Garchomp', 'Torterra')"
   ]
  }
 ],
 "metadata": {
  "kernelspec": {
   "display_name": "Python 3",
   "language": "python",
   "name": "python3"
  },
  "language_info": {
   "codemirror_mode": {
    "name": "ipython",
    "version": 3
   },
   "file_extension": ".py",
   "mimetype": "text/x-python",
   "name": "python",
   "nbconvert_exporter": "python",
   "pygments_lexer": "ipython3",
   "version": "3.8.8"
  }
 },
 "nbformat": 4,
 "nbformat_minor": 5
}

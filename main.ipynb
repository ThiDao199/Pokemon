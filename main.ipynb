{
 "cells": [
  {
   "cell_type": "code",
   "execution_count": 2,
   "source": [
    "import project\n",
    "from project import *\n",
    "import math"
   ],
   "outputs": [],
   "metadata": {}
  },
  {
   "cell_type": "code",
   "execution_count": 3,
   "source": [
    "def damage(attacker, defender):\n",
    "    physical_damage = 10 * project.get_attack(attacker) / project.get_defense(defender)\n",
    "    special_damage = 10 * project.get_sp_atk(attacker) / project.get_sp_def(defender)\n",
    "    if (physical_damage > special_damage):\n",
    "        return physical_damage\n",
    "    else:\n",
    "        return special_damage"
   ],
   "outputs": [],
   "metadata": {}
  },
  {
   "cell_type": "code",
   "execution_count": 4,
   "source": [
    "#Q1\n",
    "damage(\"Scraggy\", \"Golem\")"
   ],
   "outputs": [
    {
     "output_type": "execute_result",
     "data": {
      "text/plain": [
       "5.769230769230769"
      ]
     },
     "metadata": {},
     "execution_count": 4
    }
   ],
   "metadata": {}
  },
  {
   "cell_type": "code",
   "execution_count": 5,
   "source": [
    "#Q2\n",
    "damage(\"Magnemite\",\"Nidorina\")"
   ],
   "outputs": [
    {
     "output_type": "execute_result",
     "data": {
      "text/plain": [
       "17.272727272727273"
      ]
     },
     "metadata": {},
     "execution_count": 5
    }
   ],
   "metadata": {}
  },
  {
   "cell_type": "code",
   "execution_count": 6,
   "source": [
    "def type_bonus(attack_type, defender):\n",
    "    defender_type1 = get_type1(defender)\n",
    "    defender_type2 = get_type2(defender)\n",
    "    bonus = project.get_type_effectiveness(attack_type, defender_type1)\n",
    "    if (defender_type2 != \"None\"):\n",
    "        bonus = bonus * get_type_effectiveness(attack_type, defender_type2)\n",
    "        return bonus\n",
    "    return bonus\n"
   ],
   "outputs": [],
   "metadata": {}
  },
  {
   "cell_type": "code",
   "execution_count": 7,
   "source": [
    "#Q3\n",
    "type_bonus(\"Electric\",\"Magikarp\")"
   ],
   "outputs": [
    {
     "output_type": "execute_result",
     "data": {
      "text/plain": [
       "2.0"
      ]
     },
     "metadata": {},
     "execution_count": 7
    }
   ],
   "metadata": {}
  },
  {
   "cell_type": "code",
   "execution_count": 8,
   "source": [
    "#Q4\n",
    "type_bonus(\"Bug\",\"Gastly\")"
   ],
   "outputs": [
    {
     "output_type": "execute_result",
     "data": {
      "text/plain": [
       "0.25"
      ]
     },
     "metadata": {},
     "execution_count": 8
    }
   ],
   "metadata": {}
  },
  {
   "cell_type": "code",
   "execution_count": 9,
   "source": [
    "def effective_damage(attacker, defender):\n",
    "    attacker_type1 = get_type1(attacker)\n",
    "    attacker_type2 = get_type2(attacker)\n",
    "    if (attacker_type2 != \"None\"):\n",
    "        type1_bonus = type_bonus(attacker_type1, defender)\n",
    "        type2_bonus = type_bonus(attacker_type2, defender)\n",
    "        if (type1_bonus > type2_bonus):\n",
    "            bonus = type1_bonus\n",
    "            calc_damage = bonus * damage(attacker, defender)\n",
    "            return calc_damage\n",
    "        else:\n",
    "            bonus = type2_bonus\n",
    "            calc_damage = bonus * damage(attacker, defender)\n",
    "            return calc_damage \n",
    "    else:\n",
    "        bonus = type_bonus(attacker_type1, defender)\n",
    "        calc_damage = bonus * damage(attacker, defender)\n",
    "        return calc_damage"
   ],
   "outputs": [],
   "metadata": {}
  },
  {
   "cell_type": "code",
   "execution_count": 10,
   "source": [
    "#Q5\n",
    "effective_damage(\"Mewtwo\",\"Gengar\")"
   ],
   "outputs": [
    {
     "output_type": "execute_result",
     "data": {
      "text/plain": [
       "41.06666666666667"
      ]
     },
     "metadata": {},
     "execution_count": 10
    }
   ],
   "metadata": {}
  },
  {
   "cell_type": "code",
   "execution_count": 11,
   "source": [
    "#Q6\n",
    "effective_damage(\"Wooper\",\"Pikachu\")"
   ],
   "outputs": [
    {
     "output_type": "execute_result",
     "data": {
      "text/plain": [
       "22.5"
      ]
     },
     "metadata": {},
     "execution_count": 11
    }
   ],
   "metadata": {}
  },
  {
   "cell_type": "code",
   "execution_count": 12,
   "source": [
    "#Q7\n",
    "effective_damage(\"Slowpoke\",\"Steelix\")"
   ],
   "outputs": [
    {
     "output_type": "execute_result",
     "data": {
      "text/plain": [
       "12.307692307692308"
      ]
     },
     "metadata": {},
     "execution_count": 12
    }
   ],
   "metadata": {}
  },
  {
   "cell_type": "code",
   "execution_count": 13,
   "source": [
    "def num_hits(attacker, defender):\n",
    "    return math.ceil(project.get_hp(defender)/effective_damage(attacker,defender))"
   ],
   "outputs": [],
   "metadata": {}
  },
  {
   "cell_type": "code",
   "execution_count": 14,
   "source": [
    "#Q8\n",
    "num_hits(\"Metapod\",\"Slowpoke\")"
   ],
   "outputs": [
    {
     "output_type": "execute_result",
     "data": {
      "text/plain": [
       "8"
      ]
     },
     "metadata": {},
     "execution_count": 14
    }
   ],
   "metadata": {}
  },
  {
   "cell_type": "code",
   "execution_count": 15,
   "source": [
    "#Q9\n",
    "num_hits(\"Pikachu\",\"Snivy\")"
   ],
   "outputs": [
    {
     "output_type": "execute_result",
     "data": {
      "text/plain": [
       "9"
      ]
     },
     "metadata": {},
     "execution_count": 15
    }
   ],
   "metadata": {}
  },
  {
   "cell_type": "code",
   "execution_count": 16,
   "source": [
    "def battle(pkmn1, pkmn2):\n",
    "    dmg_taken1 = num_hits(pkmn2,pkmn1)\n",
    "    dmg_taken2 = num_hits(pkmn1,pkmn2)\n",
    "    if (dmg_taken1 > dmg_taken2):\n",
    "        if (dmg_taken1 > 10):\n",
    "            return (pkmn2 + \" ran away\")\n",
    "        return pkmn1\n",
    "    elif (dmg_taken2 > dmg_taken1):\n",
    "        if (dmg_taken2 > 10):\n",
    "            return (pkmn1 + \" ran away\")\n",
    "        return pkmn2\n",
    "    elif (dmg_taken1 == dmg_taken2):\n",
    "        if (get_speed(pkmn1) > get_speed(pkmn2)):\n",
    "            return pkmn1\n",
    "        elif (get_speed(pkmn1) < get_speed(pkmn2)):\n",
    "            return pkmn2\n",
    "        else:\n",
    "            return (\"Draw\")"
   ],
   "outputs": [],
   "metadata": {}
  },
  {
   "cell_type": "code",
   "execution_count": 17,
   "source": [
    "#Q10\n",
    "battle(\"Krabby\",\"Sceptile\")"
   ],
   "outputs": [
    {
     "output_type": "execute_result",
     "data": {
      "text/plain": [
       "'Sceptile'"
      ]
     },
     "metadata": {},
     "execution_count": 17
    }
   ],
   "metadata": {}
  },
  {
   "cell_type": "code",
   "execution_count": 18,
   "source": [
    "#Q11\n",
    "battle('Heracross', 'Blastoise')"
   ],
   "outputs": [
    {
     "output_type": "execute_result",
     "data": {
      "text/plain": [
       "'Heracross'"
      ]
     },
     "metadata": {},
     "execution_count": 18
    }
   ],
   "metadata": {}
  },
  {
   "cell_type": "code",
   "execution_count": 19,
   "source": [
    "#Q12\n",
    "battle('Starly', 'Pidgey')"
   ],
   "outputs": [
    {
     "output_type": "execute_result",
     "data": {
      "text/plain": [
       "'Starly'"
      ]
     },
     "metadata": {},
     "execution_count": 19
    }
   ],
   "metadata": {}
  },
  {
   "cell_type": "code",
   "execution_count": 20,
   "source": [
    "#Q13\n",
    "battle('Bulbasaur', 'Spearow')"
   ],
   "outputs": [
    {
     "output_type": "execute_result",
     "data": {
      "text/plain": [
       "'Spearow'"
      ]
     },
     "metadata": {},
     "execution_count": 20
    }
   ],
   "metadata": {}
  },
  {
   "cell_type": "code",
   "execution_count": 21,
   "source": [
    "#Q14\n",
    "battle('Heatran', 'Bellsprout')"
   ],
   "outputs": [
    {
     "output_type": "execute_result",
     "data": {
      "text/plain": [
       "'Bellsprout ran away'"
      ]
     },
     "metadata": {},
     "execution_count": 21
    }
   ],
   "metadata": {}
  },
  {
   "cell_type": "code",
   "execution_count": 22,
   "source": [
    "#Q15\n",
    "battle('Meditite', 'Gyarados')"
   ],
   "outputs": [
    {
     "output_type": "execute_result",
     "data": {
      "text/plain": [
       "'Meditite ran away'"
      ]
     },
     "metadata": {},
     "execution_count": 22
    }
   ],
   "metadata": {}
  },
  {
   "cell_type": "code",
   "execution_count": 23,
   "source": [
    "#Q16\n",
    "battle('Mudkip', 'Gulpin')"
   ],
   "outputs": [
    {
     "output_type": "execute_result",
     "data": {
      "text/plain": [
       "'Draw'"
      ]
     },
     "metadata": {},
     "execution_count": 23
    }
   ],
   "metadata": {}
  },
  {
   "cell_type": "code",
   "execution_count": 24,
   "source": [
    "def battle_2(pkmn1, pkmn2):\n",
    "    dmg_taken1 = num_hits(pkmn2,pkmn1)\n",
    "    dmg_taken2 = num_hits(pkmn1,pkmn2)\n",
    "    if (dmg_taken1 > dmg_taken2):\n",
    "        return pkmn1\n",
    "    elif (dmg_taken2 > dmg_taken1):\n",
    "        return pkmn2\n",
    "    else:\n",
    "        return (\"Draw\")"
   ],
   "outputs": [],
   "metadata": {}
  },
  {
   "cell_type": "code",
   "execution_count": 25,
   "source": [
    "def two_on_two_battle(pkmn1, pkmn2, pkmn3, pkmn4):\n",
    "    pkmn1_win1 = battle_2(pkmn1,pkmn3)\n",
    "    pkmn2_win1 = battle_2(pkmn2,pkmn4)\n",
    "    if (pkmn1_win1 == pkmn1 and pkmn2_win1 == pkmn2):\n",
    "        return \"Team A wins\"\n",
    "    elif (pkmn1_win1 == pkmn3 and pkmn2_win1 == pkmn4):\n",
    "        return \"Team B wins\"\n",
    "    elif ((pkmn1_win1 == pkmn1 and pkmn2_win1 == pkmn4) or (pkmn1_win1 == pkmn3 and pkmn2_win1 == pkmn2)):\n",
    "        pkmn_win2 = battle(pkmn1_win1,pkmn2_win1)\n",
    "        if (pkmn_win2 == pkmn1 or pkmn_win2 == pkmn2):\n",
    "            return \"Team A wins\"\n",
    "        elif (pkmn_win2 == pkmn3 or pkmn_win2 == pkmn4):\n",
    "            return \"Team B wins\"\n",
    "        else:\n",
    "            return \"No result\"\n",
    "    else: \n",
    "        return \"No result\"\n"
   ],
   "outputs": [],
   "metadata": {}
  },
  {
   "cell_type": "code",
   "execution_count": 26,
   "source": [
    "#Q17\n",
    "two_on_two_battle('Squirtle', 'Mudkip', 'Infernape', 'Charizard')"
   ],
   "outputs": [
    {
     "output_type": "execute_result",
     "data": {
      "text/plain": [
       "'Team B wins'"
      ]
     },
     "metadata": {},
     "execution_count": 26
    }
   ],
   "metadata": {}
  },
  {
   "cell_type": "code",
   "execution_count": 27,
   "source": [
    "#Q18\n",
    "two_on_two_battle(\"Umbreon\", \"Flareon\", \"Jolteon\", \"Glaceon\")"
   ],
   "outputs": [
    {
     "output_type": "execute_result",
     "data": {
      "text/plain": [
       "'Team A wins'"
      ]
     },
     "metadata": {},
     "execution_count": 27
    }
   ],
   "metadata": {}
  },
  {
   "cell_type": "code",
   "execution_count": 28,
   "source": [
    "#Q19\n",
    "two_on_two_battle(\"Electivire\", \"Arcanine\", \"Greninja\", \"Charizard\")"
   ],
   "outputs": [
    {
     "output_type": "execute_result",
     "data": {
      "text/plain": [
       "'Team A wins'"
      ]
     },
     "metadata": {},
     "execution_count": 28
    }
   ],
   "metadata": {}
  },
  {
   "cell_type": "code",
   "execution_count": 29,
   "source": [
    "#Q20\n",
    "two_on_two_battle('Flygon', 'Sceptile', 'Garchomp', 'Torterra')"
   ],
   "outputs": [
    {
     "output_type": "execute_result",
     "data": {
      "text/plain": [
       "'Team B wins'"
      ]
     },
     "metadata": {},
     "execution_count": 29
    }
   ],
   "metadata": {}
  }
 ],
 "metadata": {
  "kernelspec": {
   "display_name": "Python 3",
   "language": "python",
   "name": "python3"
  },
  "language_info": {
   "codemirror_mode": {
    "name": "ipython",
    "version": 3
   },
   "file_extension": ".py",
   "mimetype": "text/x-python",
   "name": "python",
   "nbconvert_exporter": "python",
   "pygments_lexer": "ipython3",
   "version": "3.8.8"
  }
 },
 "nbformat": 4,
 "nbformat_minor": 5
}
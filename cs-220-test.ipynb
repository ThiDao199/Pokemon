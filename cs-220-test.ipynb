{
 "cells": [
  {
   "cell_type": "code",
   "execution_count": 1,
   "id": "3ad0b10d",
   "metadata": {
    "execution": {
     "iopub.execute_input": "2021-10-07T01:47:16.351773Z",
     "iopub.status.busy": "2021-10-07T01:47:16.350964Z",
     "iopub.status.idle": "2021-10-07T01:47:16.353268Z",
     "shell.execute_reply": "2021-10-07T01:47:16.353771Z"
    }
   },
   "outputs": [],
   "source": [
    "# project: p4\n",
    "# submitter: adao3\n",
    "# partner: none\n",
    "# hours: 1"
   ]
  },
  {
   "cell_type": "code",
   "execution_count": 2,
   "id": "5096277b",
   "metadata": {
    "execution": {
     "iopub.execute_input": "2021-10-07T01:47:16.357539Z",
     "iopub.status.busy": "2021-10-07T01:47:16.356857Z",
     "iopub.status.idle": "2021-10-07T01:47:16.370865Z",
     "shell.execute_reply": "2021-10-07T01:47:16.371340Z"
    }
   },
   "outputs": [],
   "source": [
    "import project\n",
    "from project import *\n",
    "import math"
   ]
  },
  {
   "cell_type": "code",
   "execution_count": 3,
   "id": "002c0845",
   "metadata": {
    "execution": {
     "iopub.execute_input": "2021-10-07T01:47:16.375818Z",
     "iopub.status.busy": "2021-10-07T01:47:16.375180Z",
     "iopub.status.idle": "2021-10-07T01:47:16.377377Z",
     "shell.execute_reply": "2021-10-07T01:47:16.377853Z"
    }
   },
   "outputs": [],
   "source": [
    "def damage(attacker, defender):\n",
    "    physical_damage = 10 * project.get_attack(attacker) / project.get_defense(defender)\n",
    "    special_damage = 10 * project.get_sp_atk(attacker) / project.get_sp_def(defender)\n",
    "    if (physical_damage > special_damage):\n",
    "        return physical_damage\n",
    "    else:\n",
    "        return special_damage"
   ]
  },
  {
   "cell_type": "code",
   "execution_count": 4,
   "id": "aaa4777c",
   "metadata": {
    "execution": {
     "iopub.execute_input": "2021-10-07T01:47:16.386789Z",
     "iopub.status.busy": "2021-10-07T01:47:16.386006Z",
     "iopub.status.idle": "2021-10-07T01:47:16.388652Z",
     "shell.execute_reply": "2021-10-07T01:47:16.389108Z"
    }
   },
   "outputs": [
    {
     "data": {
      "text/plain": [
       "5.769230769230769"
      ]
     },
     "execution_count": 1,
     "metadata": {},
     "output_type": "execute_result"
    }
   ],
   "source": [
    "#Q1\n",
    "damage(\"Scraggy\", \"Golem\")"
   ]
  },
  {
   "cell_type": "code",
   "execution_count": 5,
   "id": "82a4f193",
   "metadata": {
    "execution": {
     "iopub.execute_input": "2021-10-07T01:47:16.392722Z",
     "iopub.status.busy": "2021-10-07T01:47:16.392060Z",
     "iopub.status.idle": "2021-10-07T01:47:16.394451Z",
     "shell.execute_reply": "2021-10-07T01:47:16.394858Z"
    }
   },
   "outputs": [
    {
     "data": {
      "text/plain": [
       "17.272727272727273"
      ]
     },
     "execution_count": 1,
     "metadata": {},
     "output_type": "execute_result"
    }
   ],
   "source": [
    "#Q2\n",
    "damage(\"Magnemite\",\"Nidorina\")"
   ]
  },
  {
   "cell_type": "code",
   "execution_count": 6,
   "id": "001adc53",
   "metadata": {
    "execution": {
     "iopub.execute_input": "2021-10-07T01:47:16.398837Z",
     "iopub.status.busy": "2021-10-07T01:47:16.398218Z",
     "iopub.status.idle": "2021-10-07T01:47:16.400608Z",
     "shell.execute_reply": "2021-10-07T01:47:16.400137Z"
    }
   },
   "outputs": [],
   "source": [
    "def type_bonus(attack_type, defender):\n",
    "    defender_type1 = get_type1(defender)\n",
    "    defender_type2 = get_type2(defender)\n",
    "    bonus = project.get_type_effectiveness(attack_type, defender_type1)\n",
    "    if (defender_type2 != \"None\"):\n",
    "        bonus = bonus * get_type_effectiveness(attack_type, defender_type2)\n",
    "        return bonus\n",
    "    return bonus\n"
   ]
  },
  {
   "cell_type": "code",
   "execution_count": 7,
   "id": "0839084c",
   "metadata": {
    "execution": {
     "iopub.execute_input": "2021-10-07T01:47:16.404074Z",
     "iopub.status.busy": "2021-10-07T01:47:16.403420Z",
     "iopub.status.idle": "2021-10-07T01:47:16.405773Z",
     "shell.execute_reply": "2021-10-07T01:47:16.406255Z"
    }
   },
   "outputs": [
    {
     "data": {
      "text/plain": [
       "2.0"
      ]
     },
     "execution_count": 1,
     "metadata": {},
     "output_type": "execute_result"
    }
   ],
   "source": [
    "#Q3\n",
    "type_bonus(\"Electric\",\"Magikarp\")"
   ]
  },
  {
   "cell_type": "code",
   "execution_count": 8,
   "id": "6128eb50",
   "metadata": {
    "execution": {
     "iopub.execute_input": "2021-10-07T01:47:16.409530Z",
     "iopub.status.busy": "2021-10-07T01:47:16.408895Z",
     "iopub.status.idle": "2021-10-07T01:47:16.411144Z",
     "shell.execute_reply": "2021-10-07T01:47:16.411567Z"
    }
   },
   "outputs": [
    {
     "data": {
      "text/plain": [
       "0.25"
      ]
     },
     "execution_count": 1,
     "metadata": {},
     "output_type": "execute_result"
    }
   ],
   "source": [
    "#Q4\n",
    "type_bonus(\"Bug\",\"Gastly\")"
   ]
  },
  {
   "cell_type": "code",
   "execution_count": 9,
   "id": "cd43082d",
   "metadata": {
    "execution": {
     "iopub.execute_input": "2021-10-07T01:47:16.416080Z",
     "iopub.status.busy": "2021-10-07T01:47:16.415490Z",
     "iopub.status.idle": "2021-10-07T01:47:16.417186Z",
     "shell.execute_reply": "2021-10-07T01:47:16.417587Z"
    }
   },
   "outputs": [],
   "source": [
    "def effective_damage(attacker, defender):\n",
    "    attacker_type1 = get_type1(attacker)\n",
    "    attacker_type2 = get_type2(attacker)\n",
    "    if (attacker_type2 != \"None\"):\n",
    "        type1_bonus = type_bonus(attacker_type1, defender)\n",
    "        type2_bonus = type_bonus(attacker_type2, defender)\n",
    "        if (type1_bonus > type2_bonus):\n",
    "            bonus = type1_bonus\n",
    "            calc_damage = bonus * damage(attacker, defender)\n",
    "            return calc_damage\n",
    "        else:\n",
    "            bonus = type2_bonus\n",
    "            calc_damage = bonus * damage(attacker, defender)\n",
    "            return calc_damage \n",
    "    else:\n",
    "        bonus = type_bonus(attacker_type1, defender)\n",
    "        calc_damage = bonus * damage(attacker, defender)\n",
    "        return calc_damage"
   ]
  },
  {
   "cell_type": "code",
   "execution_count": 10,
   "id": "96ee365a",
   "metadata": {
    "execution": {
     "iopub.execute_input": "2021-10-07T01:47:16.420796Z",
     "iopub.status.busy": "2021-10-07T01:47:16.420222Z",
     "iopub.status.idle": "2021-10-07T01:47:16.422354Z",
     "shell.execute_reply": "2021-10-07T01:47:16.422828Z"
    }
   },
   "outputs": [
    {
     "data": {
      "text/plain": [
       "41.06666666666667"
      ]
     },
     "execution_count": 1,
     "metadata": {},
     "output_type": "execute_result"
    }
   ],
   "source": [
    "#Q5\n",
    "effective_damage(\"Mewtwo\",\"Gengar\")"
   ]
  },
  {
   "cell_type": "code",
   "execution_count": 11,
   "id": "22295ae1",
   "metadata": {
    "execution": {
     "iopub.execute_input": "2021-10-07T01:47:16.425902Z",
     "iopub.status.busy": "2021-10-07T01:47:16.425327Z",
     "iopub.status.idle": "2021-10-07T01:47:16.427556Z",
     "shell.execute_reply": "2021-10-07T01:47:16.428006Z"
    }
   },
   "outputs": [
    {
     "data": {
      "text/plain": [
       "22.5"
      ]
     },
     "execution_count": 1,
     "metadata": {},
     "output_type": "execute_result"
    }
   ],
   "source": [
    "#Q6\n",
    "effective_damage(\"Wooper\",\"Pikachu\")"
   ]
  },
  {
   "cell_type": "code",
   "execution_count": 12,
   "id": "befc9e47",
   "metadata": {
    "execution": {
     "iopub.execute_input": "2021-10-07T01:47:16.431214Z",
     "iopub.status.busy": "2021-10-07T01:47:16.430646Z",
     "iopub.status.idle": "2021-10-07T01:47:16.432820Z",
     "shell.execute_reply": "2021-10-07T01:47:16.433225Z"
    }
   },
   "outputs": [
    {
     "data": {
      "text/plain": [
       "12.307692307692308"
      ]
     },
     "execution_count": 1,
     "metadata": {},
     "output_type": "execute_result"
    }
   ],
   "source": [
    "#Q7\n",
    "effective_damage(\"Slowpoke\",\"Steelix\")"
   ]
  },
  {
   "cell_type": "code",
   "execution_count": 13,
   "id": "237bda24",
   "metadata": {
    "execution": {
     "iopub.execute_input": "2021-10-07T01:47:16.436357Z",
     "iopub.status.busy": "2021-10-07T01:47:16.435775Z",
     "iopub.status.idle": "2021-10-07T01:47:16.437444Z",
     "shell.execute_reply": "2021-10-07T01:47:16.437855Z"
    }
   },
   "outputs": [],
   "source": [
    "def num_hits(attacker, defender):\n",
    "    return math.ceil(project.get_hp(defender)/effective_damage(attacker,defender))"
   ]
  },
  {
   "cell_type": "code",
   "execution_count": 14,
   "id": "5ad0592a",
   "metadata": {
    "execution": {
     "iopub.execute_input": "2021-10-07T01:47:16.441142Z",
     "iopub.status.busy": "2021-10-07T01:47:16.440536Z",
     "iopub.status.idle": "2021-10-07T01:47:16.442783Z",
     "shell.execute_reply": "2021-10-07T01:47:16.443212Z"
    }
   },
   "outputs": [
    {
     "data": {
      "text/plain": [
       "8"
      ]
     },
     "execution_count": 1,
     "metadata": {},
     "output_type": "execute_result"
    }
   ],
   "source": [
    "#Q8\n",
    "num_hits(\"Metapod\",\"Slowpoke\")"
   ]
  },
  {
   "cell_type": "code",
   "execution_count": 15,
   "id": "b4610e5c",
   "metadata": {
    "execution": {
     "iopub.execute_input": "2021-10-07T01:47:16.446379Z",
     "iopub.status.busy": "2021-10-07T01:47:16.445768Z",
     "iopub.status.idle": "2021-10-07T01:47:16.447855Z",
     "shell.execute_reply": "2021-10-07T01:47:16.448262Z"
    }
   },
   "outputs": [
    {
     "data": {
      "text/plain": [
       "9"
      ]
     },
     "execution_count": 1,
     "metadata": {},
     "output_type": "execute_result"
    }
   ],
   "source": [
    "#Q9\n",
    "num_hits(\"Pikachu\",\"Snivy\")"
   ]
  },
  {
   "cell_type": "code",
   "execution_count": 16,
   "id": "fe0c2e3e",
   "metadata": {
    "execution": {
     "iopub.execute_input": "2021-10-07T01:47:16.452830Z",
     "iopub.status.busy": "2021-10-07T01:47:16.452163Z",
     "iopub.status.idle": "2021-10-07T01:47:16.453744Z",
     "shell.execute_reply": "2021-10-07T01:47:16.454133Z"
    }
   },
   "outputs": [],
   "source": [
    "def battle(pkmn1, pkmn2):\n",
    "    dmg_taken1 = num_hits(pkmn2,pkmn1)\n",
    "    dmg_taken2 = num_hits(pkmn1,pkmn2)\n",
    "    if (dmg_taken1 > dmg_taken2):\n",
    "        if (dmg_taken1 > 10):\n",
    "            return (pkmn2 + \" ran away\")\n",
    "        return pkmn1\n",
    "    elif (dmg_taken2 > dmg_taken1):\n",
    "        if (dmg_taken2 > 10):\n",
    "            return (pkmn1 + \" ran away\")\n",
    "        return pkmn2\n",
    "    elif (dmg_taken1 == dmg_taken2):\n",
    "        if (get_speed(pkmn1) > get_speed(pkmn2)):\n",
    "            return pkmn1\n",
    "        elif (get_speed(pkmn1) < get_speed(pkmn2)):\n",
    "            return pkmn2\n",
    "        else:\n",
    "            return (\"Draw\")"
   ]
  },
  {
   "cell_type": "code",
   "execution_count": 17,
   "id": "74a73ac5",
   "metadata": {
    "execution": {
     "iopub.execute_input": "2021-10-07T01:47:16.457055Z",
     "iopub.status.busy": "2021-10-07T01:47:16.456530Z",
     "iopub.status.idle": "2021-10-07T01:47:16.458937Z",
     "shell.execute_reply": "2021-10-07T01:47:16.458511Z"
    }
   },
   "outputs": [
    {
     "data": {
      "text/plain": [
       "'Sceptile'"
      ]
     },
     "execution_count": 1,
     "metadata": {},
     "output_type": "execute_result"
    }
   ],
   "source": [
    "#Q10\n",
    "battle(\"Krabby\",\"Sceptile\")"
   ]
  },
  {
   "cell_type": "code",
   "execution_count": 18,
   "id": "8b24fdcc",
   "metadata": {
    "execution": {
     "iopub.execute_input": "2021-10-07T01:47:16.461689Z",
     "iopub.status.busy": "2021-10-07T01:47:16.461066Z",
     "iopub.status.idle": "2021-10-07T01:47:16.463127Z",
     "shell.execute_reply": "2021-10-07T01:47:16.463499Z"
    }
   },
   "outputs": [
    {
     "data": {
      "text/plain": [
       "'Heracross'"
      ]
     },
     "execution_count": 1,
     "metadata": {},
     "output_type": "execute_result"
    }
   ],
   "source": [
    "#Q11\n",
    "battle('Heracross', 'Blastoise')"
   ]
  },
  {
   "cell_type": "code",
   "execution_count": 19,
   "id": "98fa90bf",
   "metadata": {
    "execution": {
     "iopub.execute_input": "2021-10-07T01:47:16.466446Z",
     "iopub.status.busy": "2021-10-07T01:47:16.465729Z",
     "iopub.status.idle": "2021-10-07T01:47:16.467828Z",
     "shell.execute_reply": "2021-10-07T01:47:16.468174Z"
    }
   },
   "outputs": [
    {
     "data": {
      "text/plain": [
       "'Starly'"
      ]
     },
     "execution_count": 1,
     "metadata": {},
     "output_type": "execute_result"
    }
   ],
   "source": [
    "#Q12\n",
    "battle('Starly', 'Pidgey')"
   ]
  },
  {
   "cell_type": "code",
   "execution_count": 20,
   "id": "f01023c5",
   "metadata": {
    "execution": {
     "iopub.execute_input": "2021-10-07T01:47:16.470852Z",
     "iopub.status.busy": "2021-10-07T01:47:16.470333Z",
     "iopub.status.idle": "2021-10-07T01:47:16.472222Z",
     "shell.execute_reply": "2021-10-07T01:47:16.472633Z"
    }
   },
   "outputs": [
    {
     "data": {
      "text/plain": [
       "'Spearow'"
      ]
     },
     "execution_count": 1,
     "metadata": {},
     "output_type": "execute_result"
    }
   ],
   "source": [
    "#Q13\n",
    "battle('Bulbasaur', 'Spearow')"
   ]
  },
  {
   "cell_type": "code",
   "execution_count": 21,
   "id": "315a2936",
   "metadata": {
    "execution": {
     "iopub.execute_input": "2021-10-07T01:47:16.475314Z",
     "iopub.status.busy": "2021-10-07T01:47:16.474803Z",
     "iopub.status.idle": "2021-10-07T01:47:16.476645Z",
     "shell.execute_reply": "2021-10-07T01:47:16.477147Z"
    }
   },
   "outputs": [
    {
     "data": {
      "text/plain": [
       "'Bellsprout ran away'"
      ]
     },
     "execution_count": 1,
     "metadata": {},
     "output_type": "execute_result"
    }
   ],
   "source": [
    "#Q14\n",
    "battle('Heatran', 'Bellsprout')"
   ]
  },
  {
   "cell_type": "code",
   "execution_count": 22,
   "id": "17c446d0",
   "metadata": {
    "execution": {
     "iopub.execute_input": "2021-10-07T01:47:16.479922Z",
     "iopub.status.busy": "2021-10-07T01:47:16.479398Z",
     "iopub.status.idle": "2021-10-07T01:47:16.481295Z",
     "shell.execute_reply": "2021-10-07T01:47:16.481646Z"
    }
   },
   "outputs": [
    {
     "data": {
      "text/plain": [
       "'Meditite ran away'"
      ]
     },
     "execution_count": 1,
     "metadata": {},
     "output_type": "execute_result"
    }
   ],
   "source": [
    "#Q15\n",
    "battle('Meditite', 'Gyarados')"
   ]
  },
  {
   "cell_type": "code",
   "execution_count": 23,
   "id": "be9cdb76",
   "metadata": {
    "execution": {
     "iopub.execute_input": "2021-10-07T01:47:16.484351Z",
     "iopub.status.busy": "2021-10-07T01:47:16.483853Z",
     "iopub.status.idle": "2021-10-07T01:47:16.485901Z",
     "shell.execute_reply": "2021-10-07T01:47:16.486255Z"
    }
   },
   "outputs": [
    {
     "data": {
      "text/plain": [
       "'Draw'"
      ]
     },
     "execution_count": 1,
     "metadata": {},
     "output_type": "execute_result"
    }
   ],
   "source": [
    "#Q16\n",
    "battle('Mudkip', 'Gulpin')"
   ]
  },
  {
   "cell_type": "code",
   "execution_count": 24,
   "id": "5b8f0fcb",
   "metadata": {
    "execution": {
     "iopub.execute_input": "2021-10-07T01:47:16.489332Z",
     "iopub.status.busy": "2021-10-07T01:47:16.488821Z",
     "iopub.status.idle": "2021-10-07T01:47:16.490363Z",
     "shell.execute_reply": "2021-10-07T01:47:16.490772Z"
    }
   },
   "outputs": [],
   "source": [
    "def battle_2(pkmn1, pkmn2):\n",
    "    dmg_taken1 = num_hits(pkmn2,pkmn1)\n",
    "    dmg_taken2 = num_hits(pkmn1,pkmn2)\n",
    "    if (dmg_taken1 > dmg_taken2):\n",
    "        return pkmn1\n",
    "    elif (dmg_taken2 > dmg_taken1):\n",
    "        return pkmn2\n",
    "    else:\n",
    "        return (\"Draw\")"
   ]
  },
  {
   "cell_type": "code",
   "execution_count": 25,
   "id": "d3ffacc8",
   "metadata": {
    "execution": {
     "iopub.execute_input": "2021-10-07T01:47:16.494692Z",
     "iopub.status.busy": "2021-10-07T01:47:16.494137Z",
     "iopub.status.idle": "2021-10-07T01:47:16.495645Z",
     "shell.execute_reply": "2021-10-07T01:47:16.495989Z"
    }
   },
   "outputs": [],
   "source": [
    "def two_on_two_battle(pkmn1, pkmn2, pkmn3, pkmn4):\n",
    "    pkmn1_win1 = battle_2(pkmn1,pkmn3)\n",
    "    pkmn2_win1 = battle_2(pkmn2,pkmn4)\n",
    "    if (pkmn1_win1 == pkmn1 and pkmn2_win1 == pkmn2):\n",
    "        return \"Team A wins\"\n",
    "    elif (pkmn1_win1 == pkmn3 and pkmn2_win1 == pkmn4):\n",
    "        return \"Team B wins\"\n",
    "    elif ((pkmn1_win1 == pkmn1 and pkmn2_win1 == pkmn4) or (pkmn1_win1 == pkmn3 and pkmn2_win1 == pkmn2)):\n",
    "        pkmn_win2 = battle(pkmn1_win1,pkmn2_win1)\n",
    "        if (pkmn_win2 == pkmn1 or pkmn_win2 == pkmn2):\n",
    "            return \"Team A wins\"\n",
    "        elif (pkmn_win2 == pkmn3 or pkmn_win2 == pkmn4):\n",
    "            return \"Team B wins\"\n",
    "        else:\n",
    "            return \"No result\"\n",
    "    else: \n",
    "        return \"No result\"\n"
   ]
  },
  {
   "cell_type": "code",
   "execution_count": 26,
   "id": "94a4d73c",
   "metadata": {
    "execution": {
     "iopub.execute_input": "2021-10-07T01:47:16.498789Z",
     "iopub.status.busy": "2021-10-07T01:47:16.498273Z",
     "iopub.status.idle": "2021-10-07T01:47:16.500287Z",
     "shell.execute_reply": "2021-10-07T01:47:16.500635Z"
    }
   },
   "outputs": [
    {
     "data": {
      "text/plain": [
       "'Team B wins'"
      ]
     },
     "execution_count": 1,
     "metadata": {},
     "output_type": "execute_result"
    }
   ],
   "source": [
    "#Q17\n",
    "two_on_two_battle('Squirtle', 'Mudkip', 'Infernape', 'Charizard')"
   ]
  },
  {
   "cell_type": "code",
   "execution_count": 27,
   "id": "91343d5f",
   "metadata": {
    "execution": {
     "iopub.execute_input": "2021-10-07T01:47:16.503364Z",
     "iopub.status.busy": "2021-10-07T01:47:16.502831Z",
     "iopub.status.idle": "2021-10-07T01:47:16.504773Z",
     "shell.execute_reply": "2021-10-07T01:47:16.505118Z"
    }
   },
   "outputs": [
    {
     "data": {
      "text/plain": [
       "'Team A wins'"
      ]
     },
     "execution_count": 1,
     "metadata": {},
     "output_type": "execute_result"
    }
   ],
   "source": [
    "#Q18\n",
    "two_on_two_battle(\"Umbreon\", \"Flareon\", \"Jolteon\", \"Glaceon\")"
   ]
  },
  {
   "cell_type": "code",
   "execution_count": 28,
   "id": "50ae842a",
   "metadata": {
    "execution": {
     "iopub.execute_input": "2021-10-07T01:47:16.507976Z",
     "iopub.status.busy": "2021-10-07T01:47:16.507382Z",
     "iopub.status.idle": "2021-10-07T01:47:16.509394Z",
     "shell.execute_reply": "2021-10-07T01:47:16.509742Z"
    }
   },
   "outputs": [
    {
     "data": {
      "text/plain": [
       "'Team A wins'"
      ]
     },
     "execution_count": 1,
     "metadata": {},
     "output_type": "execute_result"
    }
   ],
   "source": [
    "#Q19\n",
    "two_on_two_battle(\"Electivire\", \"Arcanine\", \"Greninja\", \"Charizard\")"
   ]
  },
  {
   "cell_type": "code",
   "execution_count": 29,
   "id": "e3f49080",
   "metadata": {
    "execution": {
     "iopub.execute_input": "2021-10-07T01:47:16.512534Z",
     "iopub.status.busy": "2021-10-07T01:47:16.512013Z",
     "iopub.status.idle": "2021-10-07T01:47:16.513925Z",
     "shell.execute_reply": "2021-10-07T01:47:16.514266Z"
    }
   },
   "outputs": [
    {
     "data": {
      "text/plain": [
       "'Team B wins'"
      ]
     },
     "execution_count": 1,
     "metadata": {},
     "output_type": "execute_result"
    }
   ],
   "source": [
    "#Q20\n",
    "two_on_two_battle('Flygon', 'Sceptile', 'Garchomp', 'Torterra')"
   ]
  }
 ],
 "metadata": {
  "kernelspec": {
   "display_name": "Python 3",
   "language": "python",
   "name": "python3"
  },
  "language_info": {
   "codemirror_mode": {
    "name": "ipython",
    "version": 3
   },
   "file_extension": ".py",
   "mimetype": "text/x-python",
   "name": "python",
   "nbconvert_exporter": "python",
   "pygments_lexer": "ipython3",
   "version": "3.8.8"
  }
 },
 "nbformat": 4,
 "nbformat_minor": 5
}
